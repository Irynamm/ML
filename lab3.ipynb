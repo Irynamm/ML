{
 "cells": [
  {
   "cell_type": "code",
   "execution_count": 58,
   "metadata": {},
   "outputs": [],
   "source": [
    "import numpy as np\n",
    "import pandas as pd\n",
    "import seaborn as sns\n",
    "import matplotlib.pyplot as plt \n",
    "from sklearn.preprocessing import StandardScaler\n",
    "from sklearn.model_selection import train_test_split\n",
    "from sklearn.cluster import KMeans\n",
    "from keras.models import Model\n",
    "from keras.layers import Input, Dense\n",
    "from keras.callbacks import EarlyStopping\n",
    "from sklearn.metrics import silhouette_score"
   ]
  },
  {
   "cell_type": "code",
   "execution_count": 59,
   "metadata": {},
   "outputs": [],
   "source": [
    "df = pd.read_excel('Online Retail.xlsx')"
   ]
  },
  {
   "cell_type": "code",
   "execution_count": 60,
   "metadata": {},
   "outputs": [
    {
     "name": "stdout",
     "output_type": "stream",
     "text": [
      "  InvoiceNo StockCode                          Description  Quantity   \n",
      "0    536365    85123A   WHITE HANGING HEART T-LIGHT HOLDER         6  \\\n",
      "1    536365     71053                  WHITE METAL LANTERN         6   \n",
      "2    536365    84406B       CREAM CUPID HEARTS COAT HANGER         8   \n",
      "3    536365    84029G  KNITTED UNION FLAG HOT WATER BOTTLE         6   \n",
      "4    536365    84029E       RED WOOLLY HOTTIE WHITE HEART.         6   \n",
      "\n",
      "          InvoiceDate  UnitPrice  CustomerID         Country  Total_Amount  \n",
      "0 2010-12-01 08:26:00       2.55     17850.0  United Kingdom         15.30  \n",
      "1 2010-12-01 08:26:00       3.39     17850.0  United Kingdom         20.34  \n",
      "2 2010-12-01 08:26:00       2.75     17850.0  United Kingdom         22.00  \n",
      "3 2010-12-01 08:26:00       3.39     17850.0  United Kingdom         20.34  \n",
      "4 2010-12-01 08:26:00       3.39     17850.0  United Kingdom         20.34  \n"
     ]
    }
   ],
   "source": [
    "# Групуємо клієнтів за країною\n",
    "df = df[df['Country'] == 'United Kingdom']\n",
    "\n",
    "# Видаляємо рядки з нульовими значеннями в стовпцях Description і CustomerID\n",
    "df = df.dropna(subset=['Description', 'CustomerID'])\n",
    "\n",
    "# Видаляємо негативні записи в кількості\n",
    "df = df[df['Quantity'] >= 0]\n",
    "\n",
    "# Перетворюємо Invoice_Date у формат дати і часу\n",
    "df['InvoiceDate'] = pd.to_datetime(df['InvoiceDate'])\n",
    "\n",
    "# Додаємо новий стовпець Total_Amount\n",
    "df['Total_Amount'] = df['Quantity'] * df['UnitPrice']\n",
    "\n",
    "# Виведемо перші декілька рядків для перевірки\n",
    "print(df.head())"
   ]
  },
  {
   "cell_type": "code",
   "execution_count": 61,
   "metadata": {},
   "outputs": [
    {
     "name": "stdout",
     "output_type": "stream",
     "text": [
      "   CustomerID  Recency  Frequency  Monetary\n",
      "0     12346.0      326          1  77183.60\n",
      "1     12747.0        2        103   4196.01\n",
      "2     12748.0        1       4596  33719.73\n",
      "3     12749.0        4        199   4090.88\n",
      "4     12820.0        3         59    942.34\n"
     ]
    }
   ],
   "source": [
    "import datetime\n",
    "\n",
    "# allocate the end date of data\n",
    "last_date = df['InvoiceDate'].max()\n",
    "\n",
    "# create rfm dataframe group by customer\n",
    "data = df.groupby('CustomerID').agg({\n",
    "    'InvoiceDate': lambda x: (last_date - x.max() + datetime.timedelta(days=1)).days,\n",
    "    'InvoiceNo': lambda x: len(x),  # F (Frequency)\n",
    "    'Total_Amount': 'sum'  # M (Monetary Value)\n",
    "}).reset_index()\n",
    "\n",
    "# set the true name of columns\n",
    "data.columns = ['CustomerID', 'Recency', 'Frequency', 'Monetary']\n",
    "\n",
    "print(data.head(5))"
   ]
  },
  {
   "cell_type": "code",
   "execution_count": 62,
   "metadata": {},
   "outputs": [
    {
     "data": {
      "text/plain": [
       "(3921, 4)"
      ]
     },
     "execution_count": 62,
     "metadata": {},
     "output_type": "execute_result"
    }
   ],
   "source": [
    "data.shape"
   ]
  },
  {
   "cell_type": "code",
   "execution_count": 63,
   "metadata": {},
   "outputs": [
    {
     "data": {
      "image/png": "[encoded data removed]",
      "text/plain": [
       "<Figure size 500x500 with 1 Axes>"
      ]
     },
     "metadata": {},
     "output_type": "display_data"
    }
   ],
   "source": [
    "x = data['Recency']\n",
    "ax = sns.displot(x)\n",
    "\n",
    "plt.show()"
   ]
  },
  {
   "cell_type": "code",
   "execution_count": 64,
   "metadata": {},
   "outputs": [],
   "source": [
    "customer_ids = data['CustomerID']\n",
    "data = data.drop('CustomerID', axis=1)"
   ]
  },
  {
   "cell_type": "code",
   "execution_count": 65,
   "metadata": {},
   "outputs": [],
   "source": [
    "scaler = StandardScaler()\n",
    "data_scaled = scaler.fit_transform(data)"
   ]
  },
  {
   "cell_type": "code",
   "execution_count": 66,
   "metadata": {},
   "outputs": [],
   "source": [
    "X_train, X_test, _, _ = train_test_split(data_scaled, data_scaled, test_size=0.2, random_state=42)"
   ]
  },
  {
   "cell_type": "code",
   "execution_count": 67,
   "metadata": {},
   "outputs": [],
   "source": [
    "input_layer = Input(shape=(data.shape[1],))\n",
    "encoded = Dense(2, activation='relu')(input_layer)  # 2 - кількість нейронів у прихованому шарі\n",
    "decoded = Dense(data.shape[1], activation='sigmoid')(encoded)\n",
    "\n",
    "autoencoder = Model(input_layer, decoded)\n",
    "autoencoder.compile(optimizer='adam', loss='mse')"
   ]
  },
  {
   "cell_type": "code",
   "execution_count": 68,
   "metadata": {},
   "outputs": [],
   "source": [
    "early_stop = EarlyStopping(monitor='val_loss', patience=5)"
   ]
  },
  {
   "cell_type": "code",
   "execution_count": 69,
   "metadata": {},
   "outputs": [
    {
     "name": "stdout",
     "output_type": "stream",
     "text": [
      "Epoch 1/50\n"
     ]
    },
    {
     "name": "stdout",
     "output_type": "stream",
     "text": [
      "98/98 [==============================] - 1s 3ms/step - loss: 1.0460 - val_loss: 1.7906\n",
      "Epoch 2/50\n",
      "98/98 [==============================] - 0s 3ms/step - loss: 0.9914 - val_loss: 1.7349\n",
      "Epoch 3/50\n",
      "98/98 [==============================] - 0s 2ms/step - loss: 0.9354 - val_loss: 1.6802\n",
      "Epoch 4/50\n",
      "98/98 [==============================] - 0s 3ms/step - loss: 0.8818 - val_loss: 1.6320\n",
      "Epoch 5/50\n",
      "98/98 [==============================] - 0s 2ms/step - loss: 0.8351 - val_loss: 1.5922\n",
      "Epoch 6/50\n",
      "98/98 [==============================] - 0s 3ms/step - loss: 0.7972 - val_loss: 1.5602\n",
      "Epoch 7/50\n",
      "98/98 [==============================] - 0s 3ms/step - loss: 0.7671 - val_loss: 1.5355\n",
      "Epoch 8/50\n",
      "98/98 [==============================] - 0s 3ms/step - loss: 0.7435 - val_loss: 1.5163\n",
      "Epoch 9/50\n",
      "98/98 [==============================] - 0s 2ms/step - loss: 0.7250 - val_loss: 1.4994\n",
      "Epoch 10/50\n",
      "98/98 [==============================] - 0s 2ms/step - loss: 0.7104 - val_loss: 1.4871\n",
      "Epoch 11/50\n",
      "98/98 [==============================] - 0s 2ms/step - loss: 0.6989 - val_loss: 1.4772\n",
      "Epoch 12/50\n",
      "98/98 [==============================] - 0s 2ms/step - loss: 0.6897 - val_loss: 1.4693\n",
      "Epoch 13/50\n",
      "98/98 [==============================] - 0s 2ms/step - loss: 0.6822 - val_loss: 1.4625\n",
      "Epoch 14/50\n",
      "98/98 [==============================] - 0s 2ms/step - loss: 0.6760 - val_loss: 1.4569\n",
      "Epoch 15/50\n",
      "98/98 [==============================] - 0s 2ms/step - loss: 0.6708 - val_loss: 1.4523\n",
      "Epoch 16/50\n",
      "98/98 [==============================] - 0s 3ms/step - loss: 0.6662 - val_loss: 1.4484\n",
      "Epoch 17/50\n",
      "98/98 [==============================] - 0s 2ms/step - loss: 0.6621 - val_loss: 1.4457\n",
      "Epoch 18/50\n",
      "98/98 [==============================] - 0s 2ms/step - loss: 0.6583 - val_loss: 1.4426\n",
      "Epoch 19/50\n",
      "98/98 [==============================] - 0s 3ms/step - loss: 0.6549 - val_loss: 1.4400\n",
      "Epoch 20/50\n",
      "98/98 [==============================] - 0s 2ms/step - loss: 0.6520 - val_loss: 1.4376\n",
      "Epoch 21/50\n",
      "98/98 [==============================] - 0s 2ms/step - loss: 0.6492 - val_loss: 1.4356\n",
      "Epoch 22/50\n",
      "98/98 [==============================] - 0s 2ms/step - loss: 0.6465 - val_loss: 1.4333\n",
      "Epoch 23/50\n",
      "98/98 [==============================] - 0s 2ms/step - loss: 0.6439 - val_loss: 1.4312\n",
      "Epoch 24/50\n",
      "98/98 [==============================] - 0s 2ms/step - loss: 0.6413 - val_loss: 1.4293\n",
      "Epoch 25/50\n",
      "98/98 [==============================] - 0s 2ms/step - loss: 0.6389 - val_loss: 1.4275\n",
      "Epoch 26/50\n",
      "98/98 [==============================] - 0s 2ms/step - loss: 0.6369 - val_loss: 1.4259\n",
      "Epoch 27/50\n",
      "98/98 [==============================] - 0s 2ms/step - loss: 0.6347 - val_loss: 1.4242\n",
      "Epoch 28/50\n",
      "98/98 [==============================] - 0s 2ms/step - loss: 0.6327 - val_loss: 1.4224\n",
      "Epoch 29/50\n",
      "98/98 [==============================] - 0s 2ms/step - loss: 0.6307 - val_loss: 1.4214\n",
      "Epoch 30/50\n",
      "98/98 [==============================] - 0s 2ms/step - loss: 0.6288 - val_loss: 1.4186\n",
      "Epoch 31/50\n",
      "98/98 [==============================] - 0s 2ms/step - loss: 0.6268 - val_loss: 1.4170\n",
      "Epoch 32/50\n",
      "98/98 [==============================] - 0s 2ms/step - loss: 0.6249 - val_loss: 1.4154\n",
      "Epoch 33/50\n",
      "98/98 [==============================] - 0s 2ms/step - loss: 0.6228 - val_loss: 1.4121\n",
      "Epoch 34/50\n",
      "98/98 [==============================] - 0s 2ms/step - loss: 0.6208 - val_loss: 1.4100\n",
      "Epoch 35/50\n",
      "98/98 [==============================] - 0s 2ms/step - loss: 0.6187 - val_loss: 1.4071\n",
      "Epoch 36/50\n",
      "98/98 [==============================] - 0s 2ms/step - loss: 0.6165 - val_loss: 1.4041\n",
      "Epoch 37/50\n",
      "98/98 [==============================] - 0s 2ms/step - loss: 0.6141 - val_loss: 1.4010\n",
      "Epoch 38/50\n",
      "98/98 [==============================] - 0s 2ms/step - loss: 0.6116 - val_loss: 1.3975\n",
      "Epoch 39/50\n",
      "98/98 [==============================] - 0s 2ms/step - loss: 0.6090 - val_loss: 1.3937\n",
      "Epoch 40/50\n",
      "98/98 [==============================] - 0s 2ms/step - loss: 0.6064 - val_loss: 1.3906\n",
      "Epoch 41/50\n",
      "98/98 [==============================] - 0s 2ms/step - loss: 0.6041 - val_loss: 1.3867\n",
      "Epoch 42/50\n",
      "98/98 [==============================] - 0s 2ms/step - loss: 0.6019 - val_loss: 1.3834\n",
      "Epoch 43/50\n",
      "98/98 [==============================] - 0s 2ms/step - loss: 0.5998 - val_loss: 1.3805\n",
      "Epoch 44/50\n",
      "98/98 [==============================] - 0s 2ms/step - loss: 0.5979 - val_loss: 1.3777\n",
      "Epoch 45/50\n",
      "98/98 [==============================] - 0s 2ms/step - loss: 0.5961 - val_loss: 1.3752\n",
      "Epoch 46/50\n",
      "98/98 [==============================] - 0s 2ms/step - loss: 0.5944 - val_loss: 1.3728\n",
      "Epoch 47/50\n",
      "98/98 [==============================] - 0s 2ms/step - loss: 0.5927 - val_loss: 1.3706\n",
      "Epoch 48/50\n",
      "98/98 [==============================] - 0s 2ms/step - loss: 0.5911 - val_loss: 1.3685\n",
      "Epoch 49/50\n",
      "98/98 [==============================] - 0s 2ms/step - loss: 0.5896 - val_loss: 1.3663\n",
      "Epoch 50/50\n",
      "98/98 [==============================] - 0s 2ms/step - loss: 0.5882 - val_loss: 1.3644\n"
     ]
    },
    {
     "data": {
      "text/plain": [
       "<keras.src.callbacks.History at 0x2c94b41a290>"
      ]
     },
     "execution_count": 69,
     "metadata": {},
     "output_type": "execute_result"
    }
   ],
   "source": [
    "autoencoder.fit(X_train, X_train, epochs=50, batch_size=32, shuffle=True, validation_data=(X_test, X_test), callbacks=early_stop)"
   ]
  },
  {
   "cell_type": "code",
   "execution_count": 70,
   "metadata": {},
   "outputs": [
    {
     "name": "stdout",
     "output_type": "stream",
     "text": [
      "123/123 [==============================] - 0s 2ms/step\n"
     ]
    }
   ],
   "source": [
    "encoder = Model(input_layer, encoded)\n",
    "encoded_data = encoder.predict(data_scaled)"
   ]
  },
  {
   "cell_type": "code",
   "execution_count": 101,
   "metadata": {},
   "outputs": [
    {
     "name": "stderr",
     "output_type": "stream",
     "text": [
      "C:\\Users\\ira\\AppData\\Roaming\\Python\\Python311\\site-packages\\sklearn\\cluster\\_kmeans.py:870: FutureWarning: The default value of `n_init` will change from 10 to 'auto' in 1.4. Set the value of `n_init` explicitly to suppress the warning\n",
      "  warnings.warn(\n"
     ]
    },
    {
     "data": {
      "text/html": [
       "<style>#sk-container-id-7 {color: black;background-color: white;}#sk-container-id-7 pre{padding: 0;}#sk-container-id-7 div.sk-toggleable {background-color: white;}#sk-container-id-7 label.sk-toggleable__label {cursor: pointer;display: block;width: 100%;margin-bottom: 0;padding: 0.3em;box-sizing: border-box;text-align: center;}#sk-container-id-7 label.sk-toggleable__label-arrow:before {content: \"▸\";float: left;margin-right: 0.25em;color: #696969;}#sk-container-id-7 label.sk-toggleable__label-arrow:hover:before {color: black;}#sk-container-id-7 div.sk-estimator:hover label.sk-toggleable__label-arrow:before {color: black;}#sk-container-id-7 div.sk-toggleable__content {max-height: 0;max-width: 0;overflow: hidden;text-align: left;background-color: #f0f8ff;}#sk-container-id-7 div.sk-toggleable__content pre {margin: 0.2em;color: black;border-radius: 0.25em;background-color: #f0f8ff;}#sk-container-id-7 input.sk-toggleable__control:checked~div.sk-toggleable__content {max-height: 200px;max-width: 100%;overflow: auto;}#sk-container-id-7 input.sk-toggleable__control:checked~label.sk-toggleable__label-arrow:before {content: \"▾\";}#sk-container-id-7 div.sk-estimator input.sk-toggleable__control:checked~label.sk-toggleable__label {background-color: #d4ebff;}#sk-container-id-7 div.sk-label input.sk-toggleable__control:checked~label.sk-toggleable__label {background-color: #d4ebff;}#sk-container-id-7 input.sk-hidden--visually {border: 0;clip: rect(1px 1px 1px 1px);clip: rect(1px, 1px, 1px, 1px);height: 1px;margin: -1px;overflow: hidden;padding: 0;position: absolute;width: 1px;}#sk-container-id-7 div.sk-estimator {font-family: monospace;background-color: #f0f8ff;border: 1px dotted black;border-radius: 0.25em;box-sizing: border-box;margin-bottom: 0.5em;}#sk-container-id-7 div.sk-estimator:hover {background-color: #d4ebff;}#sk-container-id-7 div.sk-parallel-item::after {content: \"\";width: 100%;border-bottom: 1px solid gray;flex-grow: 1;}#sk-container-id-7 div.sk-label:hover label.sk-toggleable__label {background-color: #d4ebff;}#sk-container-id-7 div.sk-serial::before {content: \"\";position: absolute;border-left: 1px solid gray;box-sizing: border-box;top: 0;bottom: 0;left: 50%;z-index: 0;}#sk-container-id-7 div.sk-serial {display: flex;flex-direction: column;align-items: center;background-color: white;padding-right: 0.2em;padding-left: 0.2em;position: relative;}#sk-container-id-7 div.sk-item {position: relative;z-index: 1;}#sk-container-id-7 div.sk-parallel {display: flex;align-items: stretch;justify-content: center;background-color: white;position: relative;}#sk-container-id-7 div.sk-item::before, #sk-container-id-7 div.sk-parallel-item::before {content: \"\";position: absolute;border-left: 1px solid gray;box-sizing: border-box;top: 0;bottom: 0;left: 50%;z-index: -1;}#sk-container-id-7 div.sk-parallel-item {display: flex;flex-direction: column;z-index: 1;position: relative;background-color: white;}#sk-container-id-7 div.sk-parallel-item:first-child::after {align-self: flex-end;width: 50%;}#sk-container-id-7 div.sk-parallel-item:last-child::after {align-self: flex-start;width: 50%;}#sk-container-id-7 div.sk-parallel-item:only-child::after {width: 0;}#sk-container-id-7 div.sk-dashed-wrapped {border: 1px dashed gray;margin: 0 0.4em 0.5em 0.4em;box-sizing: border-box;padding-bottom: 0.4em;background-color: white;}#sk-container-id-7 div.sk-label label {font-family: monospace;font-weight: bold;display: inline-block;line-height: 1.2em;}#sk-container-id-7 div.sk-label-container {text-align: center;}#sk-container-id-7 div.sk-container {/* jupyter's `normalize.less` sets `[hidden] { display: none; }` but bootstrap.min.css set `[hidden] { display: none !important; }` so we also need the `!important` here to be able to override the default hidden behavior on the sphinx rendered scikit-learn.org. See: https://github.com/scikit-learn/scikit-learn/issues/21755 */display: inline-block !important;position: relative;}#sk-container-id-7 div.sk-text-repr-fallback {display: none;}</style><div id=\"sk-container-id-7\" class=\"sk-top-container\"><div class=\"sk-text-repr-fallback\"><pre>KMeans(n_clusters=4)</pre><b>In a Jupyter environment, please rerun this cell to show the HTML representation or trust the notebook. <br />On GitHub, the HTML representation is unable to render, please try loading this page with nbviewer.org.</b></div><div class=\"sk-container\" hidden><div class=\"sk-item\"><div class=\"sk-estimator sk-toggleable\"><input class=\"sk-toggleable__control sk-hidden--visually\" id=\"sk-estimator-id-7\" type=\"checkbox\" checked><label for=\"sk-estimator-id-7\" class=\"sk-toggleable__label sk-toggleable__label-arrow\">KMeans</label><div class=\"sk-toggleable__content\"><pre>KMeans(n_clusters=4)</pre></div></div></div></div></div>"
      ],
      "text/plain": [
       "KMeans(n_clusters=4)"
      ]
     },
     "execution_count": 101,
     "metadata": {},
     "output_type": "execute_result"
    }
   ],
   "source": [
    "kmeans = KMeans(n_clusters=4)\n",
    "kmeans.fit(encoded_data)"
   ]
  },
  {
   "cell_type": "code",
   "execution_count": 102,
   "metadata": {},
   "outputs": [],
   "source": [
    "data['Cluster'] = kmeans.labels_"
   ]
  },
  {
   "cell_type": "code",
   "execution_count": 103,
   "metadata": {},
   "outputs": [],
   "source": [
    "result = pd.concat([customer_ids, data], axis=1)"
   ]
  },
  {
   "cell_type": "code",
   "execution_count": 104,
   "metadata": {},
   "outputs": [
    {
     "name": "stdout",
     "output_type": "stream",
     "text": [
      "      CustomerID  Recency  Frequency  Monetary  Cluster\n",
      "0        12346.0      326          1  77183.60        2\n",
      "1        12747.0        2        103   4196.01        1\n",
      "2        12748.0        1       4596  33719.73        3\n",
      "3        12749.0        4        199   4090.88        3\n",
      "4        12820.0        3         59    942.34        1\n",
      "...          ...      ...        ...       ...      ...\n",
      "3916     18280.0      278         10    180.60        2\n",
      "3917     18281.0      181          7     80.82        0\n",
      "3918     18282.0        8         12    178.05        1\n",
      "3919     18283.0        4        756   2094.88        3\n",
      "3920     18287.0       43         70   1837.28        1\n",
      "\n",
      "[3921 rows x 5 columns]\n"
     ]
    }
   ],
   "source": [
    "print(result)"
   ]
  },
  {
   "cell_type": "code",
   "execution_count": 105,
   "metadata": {},
   "outputs": [
    {
     "data": {
      "image/png": "[encoded data removed]",
      "text/plain": [
       "<Figure size 1000x600 with 1 Axes>"
      ]
     },
     "metadata": {},
     "output_type": "display_data"
    }
   ],
   "source": [
    "plt.figure(figsize=(10, 6))\n",
    "\n",
    "# Використовуємо scatter plot для відображення кластерів\n",
    "sns.scatterplot(x='Recency', y='Frequency', hue='Cluster', data=data, palette='viridis', s=50)\n",
    "\n",
    "# Додаємо маркери центрів кластерів\n",
    "centers = kmeans.cluster_centers_\n",
    "plt.scatter(centers[:, 0], centers[:, 1], c='red', marker='X', s=200, label='Cluster Centers')\n",
    "\n",
    "plt.title('Кластерний розподіл')\n",
    "plt.xlabel('Frequency')\n",
    "plt.ylabel('Monetary')\n",
    "plt.legend()\n",
    "plt.show()"
   ]
  },
  {
   "cell_type": "code",
   "execution_count": 106,
   "metadata": {},
   "outputs": [
    {
     "data": {
      "text/html": [
       "<div>\n",
       "<style scoped>\n",
       "    .dataframe tbody tr th:only-of-type {\n",
       "        vertical-align: middle;\n",
       "    }\n",
       "\n",
       "    .dataframe tbody tr th {\n",
       "        vertical-align: top;\n",
       "    }\n",
       "\n",
       "    .dataframe thead th {\n",
       "        text-align: right;\n",
       "    }\n",
       "</style>\n",
       "<table border=\"1\" class=\"dataframe\">\n",
       "  <thead>\n",
       "    <tr style=\"text-align: right;\">\n",
       "      <th></th>\n",
       "      <th>Recency</th>\n",
       "      <th>Frequency</th>\n",
       "      <th>Monetary</th>\n",
       "      <th>Cluster</th>\n",
       "    </tr>\n",
       "  </thead>\n",
       "  <tbody>\n",
       "    <tr>\n",
       "      <th>5</th>\n",
       "      <td>214</td>\n",
       "      <td>6</td>\n",
       "      <td>92.72</td>\n",
       "      <td>0</td>\n",
       "    </tr>\n",
       "    <tr>\n",
       "      <th>16</th>\n",
       "      <td>145</td>\n",
       "      <td>24</td>\n",
       "      <td>417.38</td>\n",
       "      <td>0</td>\n",
       "    </tr>\n",
       "    <tr>\n",
       "      <th>19</th>\n",
       "      <td>173</td>\n",
       "      <td>12</td>\n",
       "      <td>134.10</td>\n",
       "      <td>0</td>\n",
       "    </tr>\n",
       "    <tr>\n",
       "      <th>22</th>\n",
       "      <td>144</td>\n",
       "      <td>113</td>\n",
       "      <td>2726.77</td>\n",
       "      <td>0</td>\n",
       "    </tr>\n",
       "    <tr>\n",
       "      <th>32</th>\n",
       "      <td>135</td>\n",
       "      <td>78</td>\n",
       "      <td>1957.10</td>\n",
       "      <td>0</td>\n",
       "    </tr>\n",
       "    <tr>\n",
       "      <th>...</th>\n",
       "      <td>...</td>\n",
       "      <td>...</td>\n",
       "      <td>...</td>\n",
       "      <td>...</td>\n",
       "    </tr>\n",
       "    <tr>\n",
       "      <th>3894</th>\n",
       "      <td>123</td>\n",
       "      <td>47</td>\n",
       "      <td>804.02</td>\n",
       "      <td>0</td>\n",
       "    </tr>\n",
       "    <tr>\n",
       "      <th>3902</th>\n",
       "      <td>173</td>\n",
       "      <td>134</td>\n",
       "      <td>2643.20</td>\n",
       "      <td>0</td>\n",
       "    </tr>\n",
       "    <tr>\n",
       "      <th>3904</th>\n",
       "      <td>140</td>\n",
       "      <td>13</td>\n",
       "      <td>149.48</td>\n",
       "      <td>0</td>\n",
       "    </tr>\n",
       "    <tr>\n",
       "      <th>3907</th>\n",
       "      <td>134</td>\n",
       "      <td>1</td>\n",
       "      <td>25.50</td>\n",
       "      <td>0</td>\n",
       "    </tr>\n",
       "    <tr>\n",
       "      <th>3917</th>\n",
       "      <td>181</td>\n",
       "      <td>7</td>\n",
       "      <td>80.82</td>\n",
       "      <td>0</td>\n",
       "    </tr>\n",
       "  </tbody>\n",
       "</table>\n",
       "<p>642 rows × 4 columns</p>\n",
       "</div>"
      ],
      "text/plain": [
       "      Recency  Frequency  Monetary  Cluster\n",
       "5         214          6     92.72        0\n",
       "16        145         24    417.38        0\n",
       "19        173         12    134.10        0\n",
       "22        144        113   2726.77        0\n",
       "32        135         78   1957.10        0\n",
       "...       ...        ...       ...      ...\n",
       "3894      123         47    804.02        0\n",
       "3902      173        134   2643.20        0\n",
       "3904      140         13    149.48        0\n",
       "3907      134          1     25.50        0\n",
       "3917      181          7     80.82        0\n",
       "\n",
       "[642 rows x 4 columns]"
      ]
     },
     "execution_count": 106,
     "metadata": {},
     "output_type": "execute_result"
    }
   ],
   "source": [
    "cluster_0_data = data[data['Cluster'] == 0]\n",
    "cluster_0_data.shape\n",
    "cluster_0_data"
   ]
  },
  {
   "cell_type": "code",
   "execution_count": 107,
   "metadata": {},
   "outputs": [
    {
     "data": {
      "text/html": [
       "<div>\n",
       "<style scoped>\n",
       "    .dataframe tbody tr th:only-of-type {\n",
       "        vertical-align: middle;\n",
       "    }\n",
       "\n",
       "    .dataframe tbody tr th {\n",
       "        vertical-align: top;\n",
       "    }\n",
       "\n",
       "    .dataframe thead th {\n",
       "        text-align: right;\n",
       "    }\n",
       "</style>\n",
       "<table border=\"1\" class=\"dataframe\">\n",
       "  <thead>\n",
       "    <tr style=\"text-align: right;\">\n",
       "      <th></th>\n",
       "      <th>Recency</th>\n",
       "      <th>Frequency</th>\n",
       "      <th>Monetary</th>\n",
       "      <th>Cluster</th>\n",
       "    </tr>\n",
       "  </thead>\n",
       "  <tbody>\n",
       "    <tr>\n",
       "      <th>1</th>\n",
       "      <td>2</td>\n",
       "      <td>103</td>\n",
       "      <td>4196.01</td>\n",
       "      <td>1</td>\n",
       "    </tr>\n",
       "    <tr>\n",
       "      <th>4</th>\n",
       "      <td>3</td>\n",
       "      <td>59</td>\n",
       "      <td>942.34</td>\n",
       "      <td>1</td>\n",
       "    </tr>\n",
       "    <tr>\n",
       "      <th>6</th>\n",
       "      <td>71</td>\n",
       "      <td>46</td>\n",
       "      <td>948.88</td>\n",
       "      <td>1</td>\n",
       "    </tr>\n",
       "    <tr>\n",
       "      <th>7</th>\n",
       "      <td>75</td>\n",
       "      <td>5</td>\n",
       "      <td>1759.50</td>\n",
       "      <td>1</td>\n",
       "    </tr>\n",
       "    <tr>\n",
       "      <th>8</th>\n",
       "      <td>60</td>\n",
       "      <td>25</td>\n",
       "      <td>397.12</td>\n",
       "      <td>1</td>\n",
       "    </tr>\n",
       "    <tr>\n",
       "      <th>...</th>\n",
       "      <td>...</td>\n",
       "      <td>...</td>\n",
       "      <td>...</td>\n",
       "      <td>...</td>\n",
       "    </tr>\n",
       "    <tr>\n",
       "      <th>3913</th>\n",
       "      <td>44</td>\n",
       "      <td>14</td>\n",
       "      <td>335.86</td>\n",
       "      <td>1</td>\n",
       "    </tr>\n",
       "    <tr>\n",
       "      <th>3914</th>\n",
       "      <td>58</td>\n",
       "      <td>8</td>\n",
       "      <td>110.38</td>\n",
       "      <td>1</td>\n",
       "    </tr>\n",
       "    <tr>\n",
       "      <th>3915</th>\n",
       "      <td>74</td>\n",
       "      <td>9</td>\n",
       "      <td>173.90</td>\n",
       "      <td>1</td>\n",
       "    </tr>\n",
       "    <tr>\n",
       "      <th>3918</th>\n",
       "      <td>8</td>\n",
       "      <td>12</td>\n",
       "      <td>178.05</td>\n",
       "      <td>1</td>\n",
       "    </tr>\n",
       "    <tr>\n",
       "      <th>3920</th>\n",
       "      <td>43</td>\n",
       "      <td>70</td>\n",
       "      <td>1837.28</td>\n",
       "      <td>1</td>\n",
       "    </tr>\n",
       "  </tbody>\n",
       "</table>\n",
       "<p>2065 rows × 4 columns</p>\n",
       "</div>"
      ],
      "text/plain": [
       "      Recency  Frequency  Monetary  Cluster\n",
       "1           2        103   4196.01        1\n",
       "4           3         59    942.34        1\n",
       "6          71         46    948.88        1\n",
       "7          75          5   1759.50        1\n",
       "8          60         25    397.12        1\n",
       "...       ...        ...       ...      ...\n",
       "3913       44         14    335.86        1\n",
       "3914       58          8    110.38        1\n",
       "3915       74          9    173.90        1\n",
       "3918        8         12    178.05        1\n",
       "3920       43         70   1837.28        1\n",
       "\n",
       "[2065 rows x 4 columns]"
      ]
     },
     "execution_count": 107,
     "metadata": {},
     "output_type": "execute_result"
    }
   ],
   "source": [
    "cluster_1_data = data[data['Cluster'] == 1]\n",
    "cluster_1_data.shape\n",
    "cluster_1_data"
   ]
  },
  {
   "cell_type": "code",
   "execution_count": 108,
   "metadata": {},
   "outputs": [
    {
     "data": {
      "text/html": [
       "<div>\n",
       "<style scoped>\n",
       "    .dataframe tbody tr th:only-of-type {\n",
       "        vertical-align: middle;\n",
       "    }\n",
       "\n",
       "    .dataframe tbody tr th {\n",
       "        vertical-align: top;\n",
       "    }\n",
       "\n",
       "    .dataframe thead th {\n",
       "        text-align: right;\n",
       "    }\n",
       "</style>\n",
       "<table border=\"1\" class=\"dataframe\">\n",
       "  <thead>\n",
       "    <tr style=\"text-align: right;\">\n",
       "      <th></th>\n",
       "      <th>Recency</th>\n",
       "      <th>Frequency</th>\n",
       "      <th>Monetary</th>\n",
       "      <th>Cluster</th>\n",
       "    </tr>\n",
       "  </thead>\n",
       "  <tbody>\n",
       "    <tr>\n",
       "      <th>0</th>\n",
       "      <td>326</td>\n",
       "      <td>1</td>\n",
       "      <td>77183.60</td>\n",
       "      <td>2</td>\n",
       "    </tr>\n",
       "    <tr>\n",
       "      <th>12</th>\n",
       "      <td>337</td>\n",
       "      <td>11</td>\n",
       "      <td>293.00</td>\n",
       "      <td>2</td>\n",
       "    </tr>\n",
       "    <tr>\n",
       "      <th>14</th>\n",
       "      <td>262</td>\n",
       "      <td>9</td>\n",
       "      <td>215.05</td>\n",
       "      <td>2</td>\n",
       "    </tr>\n",
       "    <tr>\n",
       "      <th>17</th>\n",
       "      <td>283</td>\n",
       "      <td>18</td>\n",
       "      <td>312.38</td>\n",
       "      <td>2</td>\n",
       "    </tr>\n",
       "    <tr>\n",
       "      <th>27</th>\n",
       "      <td>267</td>\n",
       "      <td>27</td>\n",
       "      <td>354.09</td>\n",
       "      <td>2</td>\n",
       "    </tr>\n",
       "    <tr>\n",
       "      <th>...</th>\n",
       "      <td>...</td>\n",
       "      <td>...</td>\n",
       "      <td>...</td>\n",
       "      <td>...</td>\n",
       "    </tr>\n",
       "    <tr>\n",
       "      <th>3875</th>\n",
       "      <td>264</td>\n",
       "      <td>10</td>\n",
       "      <td>158.95</td>\n",
       "      <td>2</td>\n",
       "    </tr>\n",
       "    <tr>\n",
       "      <th>3884</th>\n",
       "      <td>326</td>\n",
       "      <td>1</td>\n",
       "      <td>440.00</td>\n",
       "      <td>2</td>\n",
       "    </tr>\n",
       "    <tr>\n",
       "      <th>3896</th>\n",
       "      <td>310</td>\n",
       "      <td>21</td>\n",
       "      <td>349.27</td>\n",
       "      <td>2</td>\n",
       "    </tr>\n",
       "    <tr>\n",
       "      <th>3908</th>\n",
       "      <td>366</td>\n",
       "      <td>7</td>\n",
       "      <td>168.60</td>\n",
       "      <td>2</td>\n",
       "    </tr>\n",
       "    <tr>\n",
       "      <th>3916</th>\n",
       "      <td>278</td>\n",
       "      <td>10</td>\n",
       "      <td>180.60</td>\n",
       "      <td>2</td>\n",
       "    </tr>\n",
       "  </tbody>\n",
       "</table>\n",
       "<p>484 rows × 4 columns</p>\n",
       "</div>"
      ],
      "text/plain": [
       "      Recency  Frequency  Monetary  Cluster\n",
       "0         326          1  77183.60        2\n",
       "12        337         11    293.00        2\n",
       "14        262          9    215.05        2\n",
       "17        283         18    312.38        2\n",
       "27        267         27    354.09        2\n",
       "...       ...        ...       ...      ...\n",
       "3875      264         10    158.95        2\n",
       "3884      326          1    440.00        2\n",
       "3896      310         21    349.27        2\n",
       "3908      366          7    168.60        2\n",
       "3916      278         10    180.60        2\n",
       "\n",
       "[484 rows x 4 columns]"
      ]
     },
     "execution_count": 108,
     "metadata": {},
     "output_type": "execute_result"
    }
   ],
   "source": [
    "cluster_2_data = data[data['Cluster'] == 2]\n",
    "cluster_2_data.shape\n",
    "cluster_2_data"
   ]
  },
  {
   "cell_type": "code",
   "execution_count": 109,
   "metadata": {},
   "outputs": [
    {
     "data": {
      "text/html": [
       "<div>\n",
       "<style scoped>\n",
       "    .dataframe tbody tr th:only-of-type {\n",
       "        vertical-align: middle;\n",
       "    }\n",
       "\n",
       "    .dataframe tbody tr th {\n",
       "        vertical-align: top;\n",
       "    }\n",
       "\n",
       "    .dataframe thead th {\n",
       "        text-align: right;\n",
       "    }\n",
       "</style>\n",
       "<table border=\"1\" class=\"dataframe\">\n",
       "  <thead>\n",
       "    <tr style=\"text-align: right;\">\n",
       "      <th></th>\n",
       "      <th>Recency</th>\n",
       "      <th>Frequency</th>\n",
       "      <th>Monetary</th>\n",
       "      <th>Cluster</th>\n",
       "    </tr>\n",
       "  </thead>\n",
       "  <tbody>\n",
       "    <tr>\n",
       "      <th>2</th>\n",
       "      <td>1</td>\n",
       "      <td>4596</td>\n",
       "      <td>33719.73</td>\n",
       "      <td>3</td>\n",
       "    </tr>\n",
       "    <tr>\n",
       "      <th>3</th>\n",
       "      <td>4</td>\n",
       "      <td>199</td>\n",
       "      <td>4090.88</td>\n",
       "      <td>3</td>\n",
       "    </tr>\n",
       "    <tr>\n",
       "      <th>18</th>\n",
       "      <td>59</td>\n",
       "      <td>175</td>\n",
       "      <td>2612.86</td>\n",
       "      <td>3</td>\n",
       "    </tr>\n",
       "    <tr>\n",
       "      <th>21</th>\n",
       "      <td>3</td>\n",
       "      <td>314</td>\n",
       "      <td>5591.42</td>\n",
       "      <td>3</td>\n",
       "    </tr>\n",
       "    <tr>\n",
       "      <th>23</th>\n",
       "      <td>5</td>\n",
       "      <td>420</td>\n",
       "      <td>4022.35</td>\n",
       "      <td>3</td>\n",
       "    </tr>\n",
       "    <tr>\n",
       "      <th>...</th>\n",
       "      <td>...</td>\n",
       "      <td>...</td>\n",
       "      <td>...</td>\n",
       "      <td>...</td>\n",
       "    </tr>\n",
       "    <tr>\n",
       "      <th>3877</th>\n",
       "      <td>44</td>\n",
       "      <td>242</td>\n",
       "      <td>5228.05</td>\n",
       "      <td>3</td>\n",
       "    </tr>\n",
       "    <tr>\n",
       "      <th>3880</th>\n",
       "      <td>12</td>\n",
       "      <td>164</td>\n",
       "      <td>7276.90</td>\n",
       "      <td>3</td>\n",
       "    </tr>\n",
       "    <tr>\n",
       "      <th>3892</th>\n",
       "      <td>7</td>\n",
       "      <td>175</td>\n",
       "      <td>2567.06</td>\n",
       "      <td>3</td>\n",
       "    </tr>\n",
       "    <tr>\n",
       "      <th>3910</th>\n",
       "      <td>3</td>\n",
       "      <td>166</td>\n",
       "      <td>3078.58</td>\n",
       "      <td>3</td>\n",
       "    </tr>\n",
       "    <tr>\n",
       "      <th>3919</th>\n",
       "      <td>4</td>\n",
       "      <td>756</td>\n",
       "      <td>2094.88</td>\n",
       "      <td>3</td>\n",
       "    </tr>\n",
       "  </tbody>\n",
       "</table>\n",
       "<p>730 rows × 4 columns</p>\n",
       "</div>"
      ],
      "text/plain": [
       "      Recency  Frequency  Monetary  Cluster\n",
       "2           1       4596  33719.73        3\n",
       "3           4        199   4090.88        3\n",
       "18         59        175   2612.86        3\n",
       "21          3        314   5591.42        3\n",
       "23          5        420   4022.35        3\n",
       "...       ...        ...       ...      ...\n",
       "3877       44        242   5228.05        3\n",
       "3880       12        164   7276.90        3\n",
       "3892        7        175   2567.06        3\n",
       "3910        3        166   3078.58        3\n",
       "3919        4        756   2094.88        3\n",
       "\n",
       "[730 rows x 4 columns]"
      ]
     },
     "execution_count": 109,
     "metadata": {},
     "output_type": "execute_result"
    }
   ],
   "source": [
    "cluster_3_data = data[data['Cluster'] == 3]\n",
    "cluster_3_data.shape\n",
    "cluster_3_data"
   ]
  },
  {
   "cell_type": "code",
   "execution_count": 110,
   "metadata": {},
   "outputs": [
    {
     "name": "stdout",
     "output_type": "stream",
     "text": [
      "Silhouette Score: 0.570103645324707\n"
     ]
    }
   ],
   "source": [
    "silhouette_avg = silhouette_score(encoded_data, data['Cluster'])\n",
    "print(f\"Silhouette Score: {silhouette_avg}\")"
   ]
  },
  {
   "cell_type": "code",
   "execution_count": 111,
   "metadata": {},
   "outputs": [
    {
     "name": "stderr",
     "output_type": "stream",
     "text": [
      "C:\\Users\\ira\\AppData\\Roaming\\Python\\Python311\\site-packages\\sklearn\\cluster\\_kmeans.py:870: FutureWarning: The default value of `n_init` will change from 10 to 'auto' in 1.4. Set the value of `n_init` explicitly to suppress the warning\n",
      "  warnings.warn(\n"
     ]
    },
    {
     "data": {
      "text/html": [
       "<style>#sk-container-id-8 {color: black;background-color: white;}#sk-container-id-8 pre{padding: 0;}#sk-container-id-8 div.sk-toggleable {background-color: white;}#sk-container-id-8 label.sk-toggleable__label {cursor: pointer;display: block;width: 100%;margin-bottom: 0;padding: 0.3em;box-sizing: border-box;text-align: center;}#sk-container-id-8 label.sk-toggleable__label-arrow:before {content: \"▸\";float: left;margin-right: 0.25em;color: #696969;}#sk-container-id-8 label.sk-toggleable__label-arrow:hover:before {color: black;}#sk-container-id-8 div.sk-estimator:hover label.sk-toggleable__label-arrow:before {color: black;}#sk-container-id-8 div.sk-toggleable__content {max-height: 0;max-width: 0;overflow: hidden;text-align: left;background-color: #f0f8ff;}#sk-container-id-8 div.sk-toggleable__content pre {margin: 0.2em;color: black;border-radius: 0.25em;background-color: #f0f8ff;}#sk-container-id-8 input.sk-toggleable__control:checked~div.sk-toggleable__content {max-height: 200px;max-width: 100%;overflow: auto;}#sk-container-id-8 input.sk-toggleable__control:checked~label.sk-toggleable__label-arrow:before {content: \"▾\";}#sk-container-id-8 div.sk-estimator input.sk-toggleable__control:checked~label.sk-toggleable__label {background-color: #d4ebff;}#sk-container-id-8 div.sk-label input.sk-toggleable__control:checked~label.sk-toggleable__label {background-color: #d4ebff;}#sk-container-id-8 input.sk-hidden--visually {border: 0;clip: rect(1px 1px 1px 1px);clip: rect(1px, 1px, 1px, 1px);height: 1px;margin: -1px;overflow: hidden;padding: 0;position: absolute;width: 1px;}#sk-container-id-8 div.sk-estimator {font-family: monospace;background-color: #f0f8ff;border: 1px dotted black;border-radius: 0.25em;box-sizing: border-box;margin-bottom: 0.5em;}#sk-container-id-8 div.sk-estimator:hover {background-color: #d4ebff;}#sk-container-id-8 div.sk-parallel-item::after {content: \"\";width: 100%;border-bottom: 1px solid gray;flex-grow: 1;}#sk-container-id-8 div.sk-label:hover label.sk-toggleable__label {background-color: #d4ebff;}#sk-container-id-8 div.sk-serial::before {content: \"\";position: absolute;border-left: 1px solid gray;box-sizing: border-box;top: 0;bottom: 0;left: 50%;z-index: 0;}#sk-container-id-8 div.sk-serial {display: flex;flex-direction: column;align-items: center;background-color: white;padding-right: 0.2em;padding-left: 0.2em;position: relative;}#sk-container-id-8 div.sk-item {position: relative;z-index: 1;}#sk-container-id-8 div.sk-parallel {display: flex;align-items: stretch;justify-content: center;background-color: white;position: relative;}#sk-container-id-8 div.sk-item::before, #sk-container-id-8 div.sk-parallel-item::before {content: \"\";position: absolute;border-left: 1px solid gray;box-sizing: border-box;top: 0;bottom: 0;left: 50%;z-index: -1;}#sk-container-id-8 div.sk-parallel-item {display: flex;flex-direction: column;z-index: 1;position: relative;background-color: white;}#sk-container-id-8 div.sk-parallel-item:first-child::after {align-self: flex-end;width: 50%;}#sk-container-id-8 div.sk-parallel-item:last-child::after {align-self: flex-start;width: 50%;}#sk-container-id-8 div.sk-parallel-item:only-child::after {width: 0;}#sk-container-id-8 div.sk-dashed-wrapped {border: 1px dashed gray;margin: 0 0.4em 0.5em 0.4em;box-sizing: border-box;padding-bottom: 0.4em;background-color: white;}#sk-container-id-8 div.sk-label label {font-family: monospace;font-weight: bold;display: inline-block;line-height: 1.2em;}#sk-container-id-8 div.sk-label-container {text-align: center;}#sk-container-id-8 div.sk-container {/* jupyter's `normalize.less` sets `[hidden] { display: none; }` but bootstrap.min.css set `[hidden] { display: none !important; }` so we also need the `!important` here to be able to override the default hidden behavior on the sphinx rendered scikit-learn.org. See: https://github.com/scikit-learn/scikit-learn/issues/21755 */display: inline-block !important;position: relative;}#sk-container-id-8 div.sk-text-repr-fallback {display: none;}</style><div id=\"sk-container-id-8\" class=\"sk-top-container\"><div class=\"sk-text-repr-fallback\"><pre>KMeans(n_clusters=2)</pre><b>In a Jupyter environment, please rerun this cell to show the HTML representation or trust the notebook. <br />On GitHub, the HTML representation is unable to render, please try loading this page with nbviewer.org.</b></div><div class=\"sk-container\" hidden><div class=\"sk-item\"><div class=\"sk-estimator sk-toggleable\"><input class=\"sk-toggleable__control sk-hidden--visually\" id=\"sk-estimator-id-8\" type=\"checkbox\" checked><label for=\"sk-estimator-id-8\" class=\"sk-toggleable__label sk-toggleable__label-arrow\">KMeans</label><div class=\"sk-toggleable__content\"><pre>KMeans(n_clusters=2)</pre></div></div></div></div></div>"
      ],
      "text/plain": [
       "KMeans(n_clusters=2)"
      ]
     },
     "execution_count": 111,
     "metadata": {},
     "output_type": "execute_result"
    }
   ],
   "source": [
    "kmeans_2_cluster = KMeans(n_clusters=2)\n",
    "kmeans_2_cluster.fit(encoded_data)"
   ]
  },
  {
   "cell_type": "code",
   "execution_count": 112,
   "metadata": {},
   "outputs": [],
   "source": [
    "data['Cluster'] = kmeans_2_cluster.labels_"
   ]
  },
  {
   "cell_type": "code",
   "execution_count": 113,
   "metadata": {},
   "outputs": [],
   "source": [
    "result_2_cluster = pd.concat([customer_ids, data], axis=1)"
   ]
  },
  {
   "cell_type": "code",
   "execution_count": 114,
   "metadata": {},
   "outputs": [
    {
     "data": {
      "image/png": "[encoded data removed]",
      "text/plain": [
       "<Figure size 1000x600 with 1 Axes>"
      ]
     },
     "metadata": {},
     "output_type": "display_data"
    }
   ],
   "source": [
    "plt.figure(figsize=(10, 6))\n",
    "\n",
    "# Використовуємо scatter plot для відображення кластерів\n",
    "sns.scatterplot(x='Recency', y='Frequency', hue='Cluster', data=data, palette='viridis', s=50)\n",
    "\n",
    "# Додаємо маркери центрів кластерів\n",
    "centers = kmeans_2_cluster.cluster_centers_\n",
    "plt.scatter(centers[:, 0], centers[:, 1], c='red', marker='X', s=200, label='Cluster Centers')\n",
    "\n",
    "plt.title('Кластерний розподіл')\n",
    "plt.xlabel('Frequency')\n",
    "plt.ylabel('Monetary')\n",
    "plt.legend()\n",
    "plt.show()"
   ]
  },
  {
   "cell_type": "code",
   "execution_count": 115,
   "metadata": {},
   "outputs": [
    {
     "name": "stdout",
     "output_type": "stream",
     "text": [
      "Silhouette Score: 0.6438605785369873\n"
     ]
    }
   ],
   "source": [
    "silhouette_avg = silhouette_score(encoded_data, data['Cluster'])\n",
    "print(f\"Silhouette Score: {silhouette_avg}\")"
   ]
  }
 ],
 "metadata": {
  "kernelspec": {
   "display_name": "Python 3",
   "language": "python",
   "name": "python3"
  },
  "language_info": {
   "codemirror_mode": {
    "name": "ipython",
    "version": 3
   },
   "file_extension": ".py",
   "mimetype": "text/x-python",
   "name": "python",
   "nbconvert_exporter": "python",
   "pygments_lexer": "ipython3",
   "version": "3.11.2"
  }
 },
 "nbformat": 4,
 "nbformat_minor": 2
}
